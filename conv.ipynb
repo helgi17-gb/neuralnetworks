{
 "cells": [
  {
   "cell_type": "code",
   "execution_count": 1,
   "metadata": {},
   "outputs": [],
   "source": [
    "from tensorflow.keras.datasets import fashion_mnist\n",
    "from tensorflow.keras.utils import to_categorical\n",
    "import matplotlib.pyplot as plt\n",
    "from tensorflow.keras.models import Model \n",
    "from tensorflow.keras import models, layers\n",
    "import keras\n",
    "\n",
    "# загрузка тренировочных и тестовых данных\n",
    "(x_train, y_train), (x_test, y_test) = fashion_mnist.load_data()\n",
    "\n",
    "# конвертация чисел из uint8 в float32\n",
    "x_train = x_train.astype('float32')\n",
    "x_test = x_test.astype('float32')\n",
    "\n",
    "# нормализация данных [0, 1]\n",
    "x_train /= 255 \n",
    "x_test /= 255 \n",
    "\n",
    "# трансформация лейблов в one-hot encoding\n",
    "y_train = to_categorical(y_train, 10) \n",
    "y_test = to_categorical(y_test, 10) \n",
    "\n",
    "# изменение размерности массива в 4D массив\n",
    "x_train = x_train.reshape(x_train.shape[0], 28,28,1)\n",
    "x_test = x_test.reshape(x_test.shape[0], 28,28,1)"
   ]
  },
  {
   "cell_type": "code",
   "execution_count": 22,
   "metadata": {},
   "outputs": [],
   "source": [
    "class ConvModel:\n",
    "    def __init__(self, kernel_size, layer_num, x_train, y_train, x_test, y_test):\n",
    "        \n",
    "\n",
    "        self.y_train = y_train\n",
    "        self.y_test = y_test\n",
    "\n",
    "        # изменение размерности массива в 4D массив\n",
    "        self.x_train = x_train\n",
    "        self.x_test = x_test\n",
    "        \n",
    "        self.layers = []\n",
    "        # инициализация  модели\n",
    "        input1= layers.Input(shape=(28,28,1))\n",
    "        \n",
    "        for i in range(0, layer_num):\n",
    "            x1 = layers.Conv2D(6, kernel_size=kernel_size, strides=(1, 1), activation='tanh',  padding=\"same\")(input1)\n",
    "            # второй пуллинговый слой\n",
    "            x2 = layers.AveragePooling2D(pool_size=(2, 2), strides=(1, 1), padding='valid')(x1)\n",
    "            self.layers.append((x1, x2))\n",
    "            \n",
    "        x5 = layers.Conv2D(120, kernel_size=kernel_size, strides=(1, 1), activation='tanh', padding='valid')(self.layers[layer_num-1][1])\n",
    "        # сглаживание CNN выхода чтобы можно было его присоединить к полносвязногому слою\n",
    "        #x5 = self.layers[layer_num-1][1]\n",
    "        x6 = layers.Flatten()(x5)\n",
    "\n",
    "        # шестой полносвязный слой\n",
    "        x7 = layers.Dense(84, activation='tanh')(x6)\n",
    "\n",
    "        # выходной слой с функцией активации softmax\n",
    "        out_x = layers.Dense(10, activation='softmax')(x7)\n",
    "            \n",
    "        self.model = Model(inputs = input1, outputs = out_x) \n",
    "        self.model.compile(loss=keras.losses.categorical_crossentropy, optimizer='SGD', metrics=[\"accuracy\"])\n",
    "    \n",
    "\n",
    "    def fit(self):\n",
    "        return self.model.fit(x=x_train,y=y_train, epochs=2, batch_size=128, validation_data=(x_test, y_test), verbose=1)\n",
    "\n",
    "    def evaluate(self):\n",
    "        test_score = self.model.evaluate(x_test, y_test)\n",
    "        print(\"Test loss {:.4f}, accuracy {:.2f}%\".format(test_score[0], test_score[1] * 100))"
   ]
  },
  {
   "cell_type": "code",
   "execution_count": 26,
   "metadata": {},
   "outputs": [],
   "source": [
    "conv_model = ConvModel((5, 5), 2, x_train, y_train, x_test, y_test)"
   ]
  },
  {
   "cell_type": "code",
   "execution_count": 27,
   "metadata": {},
   "outputs": [
    {
     "name": "stdout",
     "output_type": "stream",
     "text": [
      "Epoch 1/2\n",
      "469/469 [==============================] - 52s 111ms/step - loss: 0.7289 - accuracy: 0.7427 - val_loss: 0.5555 - val_accuracy: 0.7978\n",
      "Epoch 2/2\n",
      "469/469 [==============================] - 53s 112ms/step - loss: 0.4999 - accuracy: 0.8211 - val_loss: 0.4912 - val_accuracy: 0.8243\n"
     ]
    },
    {
     "data": {
      "text/plain": [
       "<keras.callbacks.History at 0x7fe441a797f0>"
      ]
     },
     "execution_count": 27,
     "metadata": {},
     "output_type": "execute_result"
    }
   ],
   "source": [
    "conv_model.fit()"
   ]
  },
  {
   "cell_type": "code",
   "execution_count": 28,
   "metadata": {},
   "outputs": [
    {
     "name": "stdout",
     "output_type": "stream",
     "text": [
      "313/313 [==============================] - 4s 12ms/step - loss: 0.4912 - accuracy: 0.8243\n",
      "Test loss 0.4912, accuracy 82.43%\n"
     ]
    }
   ],
   "source": [
    "conv_model.evaluate()"
   ]
  },
  {
   "cell_type": "code",
   "execution_count": 23,
   "metadata": {},
   "outputs": [],
   "source": [
    "conv_model = ConvModel((5, 5), 3, x_train, y_train, x_test, y_test)"
   ]
  },
  {
   "cell_type": "code",
   "execution_count": 24,
   "metadata": {},
   "outputs": [
    {
     "name": "stdout",
     "output_type": "stream",
     "text": [
      "Epoch 1/2\n",
      "469/469 [==============================] - 51s 108ms/step - loss: 0.7387 - accuracy: 0.7359 - val_loss: 0.5829 - val_accuracy: 0.7779\n",
      "Epoch 2/2\n",
      "469/469 [==============================] - 52s 111ms/step - loss: 0.5042 - accuracy: 0.8164 - val_loss: 0.5066 - val_accuracy: 0.8130\n"
     ]
    },
    {
     "data": {
      "text/plain": [
       "<keras.callbacks.History at 0x7fe441161df0>"
      ]
     },
     "execution_count": 24,
     "metadata": {},
     "output_type": "execute_result"
    }
   ],
   "source": [
    "conv_model.fit()"
   ]
  },
  {
   "cell_type": "code",
   "execution_count": 25,
   "metadata": {},
   "outputs": [
    {
     "name": "stdout",
     "output_type": "stream",
     "text": [
      "313/313 [==============================] - 4s 12ms/step - loss: 0.5066 - accuracy: 0.8130\n",
      "Test loss 0.5066, accuracy 81.30%\n"
     ]
    }
   ],
   "source": [
    "conv_model.evaluate()"
   ]
  },
  {
   "cell_type": "code",
   "execution_count": 29,
   "metadata": {},
   "outputs": [
    {
     "name": "stdout",
     "output_type": "stream",
     "text": [
      "Epoch 1/2\n",
      "469/469 [==============================] - 52s 110ms/step - loss: 0.7036 - accuracy: 0.7520 - val_loss: 0.5541 - val_accuracy: 0.7950\n",
      "Epoch 2/2\n",
      "469/469 [==============================] - 52s 112ms/step - loss: 0.4896 - accuracy: 0.8246 - val_loss: 0.4836 - val_accuracy: 0.8253\n",
      "313/313 [==============================] - 4s 12ms/step - loss: 0.4836 - accuracy: 0.8253\n",
      "Test loss 0.4836, accuracy 82.53%\n"
     ]
    }
   ],
   "source": [
    "conv_model = ConvModel((5, 5), 4, x_train, y_train, x_test, y_test)\n",
    "conv_model.fit()\n",
    "conv_model.evaluate()"
   ]
  },
  {
   "cell_type": "code",
   "execution_count": 30,
   "metadata": {},
   "outputs": [
    {
     "name": "stdout",
     "output_type": "stream",
     "text": [
      "Epoch 1/2\n",
      "469/469 [==============================] - 46s 98ms/step - loss: 0.7206 - accuracy: 0.7502 - val_loss: 0.5688 - val_accuracy: 0.7927\n",
      "Epoch 2/2\n",
      "469/469 [==============================] - 46s 99ms/step - loss: 0.5029 - accuracy: 0.8194 - val_loss: 0.5081 - val_accuracy: 0.8178\n",
      "313/313 [==============================] - 4s 12ms/step - loss: 0.5081 - accuracy: 0.8178\n",
      "Test loss 0.5081, accuracy 81.78%\n"
     ]
    }
   ],
   "source": [
    "conv_model = ConvModel((3, 3), 2, x_train, y_train, x_test, y_test)\n",
    "conv_model.fit()\n",
    "conv_model.evaluate()"
   ]
  },
  {
   "cell_type": "code",
   "execution_count": 31,
   "metadata": {},
   "outputs": [
    {
     "name": "stdout",
     "output_type": "stream",
     "text": [
      "Epoch 1/2\n",
      "469/469 [==============================] - 69s 147ms/step - loss: 0.6974 - accuracy: 0.7559 - val_loss: 0.5493 - val_accuracy: 0.7999\n",
      "Epoch 2/2\n",
      "469/469 [==============================] - 69s 146ms/step - loss: 0.4803 - accuracy: 0.8294 - val_loss: 0.4952 - val_accuracy: 0.8205\n",
      "313/313 [==============================] - 4s 13ms/step - loss: 0.4952 - accuracy: 0.8205\n",
      "Test loss 0.4952, accuracy 82.05%\n"
     ]
    }
   ],
   "source": [
    "conv_model = ConvModel((7, 7), 2, x_train, y_train, x_test, y_test)\n",
    "conv_model.fit()\n",
    "conv_model.evaluate()"
   ]
  },
  {
   "cell_type": "code",
   "execution_count": null,
   "metadata": {},
   "outputs": [],
   "source": []
  }
 ],
 "metadata": {
  "kernelspec": {
   "display_name": "Python 3",
   "language": "python",
   "name": "python3"
  },
  "language_info": {
   "codemirror_mode": {
    "name": "ipython",
    "version": 3
   },
   "file_extension": ".py",
   "mimetype": "text/x-python",
   "name": "python",
   "nbconvert_exporter": "python",
   "pygments_lexer": "ipython3",
   "version": "3.8.0"
  }
 },
 "nbformat": 4,
 "nbformat_minor": 4
}
